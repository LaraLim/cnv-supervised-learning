{
  "cells": [
    {
      "cell_type": "markdown",
      "metadata": {
        "id": "lc_t1O7Ipm25"
      },
      "source": [
        "## Mapping Gene Expression Data to CNV Table\n",
        "\n",
        "### Overview\n",
        "This notebook maps gene expression data to the corresponding gene-level copy number variation table through the gene name. This is done to add gene expression to the ground truth table as a feature. Gene expression data is taken from the statistics files, which are generated through preprocessing dense matrices.\n",
        "\n",
        "### Workflow:\n",
        "\n",
        "1. Gene-level CNV data is retrieved from its original file.\n",
        "2. Gene names in the CNV table are matched (joined) to those in the corresponding stats file.\n",
        "3. The expression data for genes is identified in the stats file (Sum column) and added to a new column in the CNV table.\n",
        "\n",
        "### Test variant:\n",
        "One stats file mapped to one gene-level CNV file\n",
        "\n",
        "**Stats file:** `gene_statistics.csv`, original from commit 410eb18\n",
        "\n",
        "**GNV file:** original name `cfe2f44c-ab6a-407a-ae93-5203cd3eb6fe.wgs.ASCAT.gene_level.copy_number_variation.tsv` (case ID C3L-00606, sample ID C3L-00606-02)"
      ]
    },
    {
      "cell_type": "markdown",
      "metadata": {
        "id": "ugjYd3gSpVea"
      },
      "source": [
        "Import libraries"
      ]
    },
    {
      "cell_type": "code",
      "execution_count": 9,
      "metadata": {
        "id": "X43CETyaPaJm"
      },
      "outputs": [],
      "source": [
        "import pandas as pd\n",
        "from google.colab import files"
      ]
    },
    {
      "cell_type": "markdown",
      "source": [
        "Get CNV and gene expression data"
      ],
      "metadata": {
        "id": "5tHscl5LQedG"
      }
    },
    {
      "cell_type": "code",
      "source": [
        "uploaded = files.upload()\n",
        "df_cnv = pd.read_csv(\"gene_level.copy_number_variation.tsv\", sep='\\t') # CNV\n",
        "df_ge = pd.read_csv(\"gene_statistics.csv\", delimiter=',') # gene expression\n",
        "\n",
        "print(\"\\ngene-level copy number variation:\")\n",
        "print(df_cnv.head())\n",
        "\n",
        "print(\"\\ngene expression statistics:\")\n",
        "print(df_ge.head())"
      ],
      "metadata": {
        "colab": {
          "base_uri": "https://localhost:8080/",
          "height": 520
        },
        "id": "XjYkxCiIQe5L",
        "outputId": "c8df4415-47f1-4cbe-9c2f-20d7b1fc5285"
      },
      "execution_count": 10,
      "outputs": [
        {
          "output_type": "display_data",
          "data": {
            "text/plain": [
              "<IPython.core.display.HTML object>"
            ],
            "text/html": [
              "\n",
              "     <input type=\"file\" id=\"files-2652d120-1e89-4812-8e31-4be2eb713579\" name=\"files[]\" multiple disabled\n",
              "        style=\"border:none\" />\n",
              "     <output id=\"result-2652d120-1e89-4812-8e31-4be2eb713579\">\n",
              "      Upload widget is only available when the cell has been executed in the\n",
              "      current browser session. Please rerun this cell to enable.\n",
              "      </output>\n",
              "      <script>// Copyright 2017 Google LLC\n",
              "//\n",
              "// Licensed under the Apache License, Version 2.0 (the \"License\");\n",
              "// you may not use this file except in compliance with the License.\n",
              "// You may obtain a copy of the License at\n",
              "//\n",
              "//      http://www.apache.org/licenses/LICENSE-2.0\n",
              "//\n",
              "// Unless required by applicable law or agreed to in writing, software\n",
              "// distributed under the License is distributed on an \"AS IS\" BASIS,\n",
              "// WITHOUT WARRANTIES OR CONDITIONS OF ANY KIND, either express or implied.\n",
              "// See the License for the specific language governing permissions and\n",
              "// limitations under the License.\n",
              "\n",
              "/**\n",
              " * @fileoverview Helpers for google.colab Python module.\n",
              " */\n",
              "(function(scope) {\n",
              "function span(text, styleAttributes = {}) {\n",
              "  const element = document.createElement('span');\n",
              "  element.textContent = text;\n",
              "  for (const key of Object.keys(styleAttributes)) {\n",
              "    element.style[key] = styleAttributes[key];\n",
              "  }\n",
              "  return element;\n",
              "}\n",
              "\n",
              "// Max number of bytes which will be uploaded at a time.\n",
              "const MAX_PAYLOAD_SIZE = 100 * 1024;\n",
              "\n",
              "function _uploadFiles(inputId, outputId) {\n",
              "  const steps = uploadFilesStep(inputId, outputId);\n",
              "  const outputElement = document.getElementById(outputId);\n",
              "  // Cache steps on the outputElement to make it available for the next call\n",
              "  // to uploadFilesContinue from Python.\n",
              "  outputElement.steps = steps;\n",
              "\n",
              "  return _uploadFilesContinue(outputId);\n",
              "}\n",
              "\n",
              "// This is roughly an async generator (not supported in the browser yet),\n",
              "// where there are multiple asynchronous steps and the Python side is going\n",
              "// to poll for completion of each step.\n",
              "// This uses a Promise to block the python side on completion of each step,\n",
              "// then passes the result of the previous step as the input to the next step.\n",
              "function _uploadFilesContinue(outputId) {\n",
              "  const outputElement = document.getElementById(outputId);\n",
              "  const steps = outputElement.steps;\n",
              "\n",
              "  const next = steps.next(outputElement.lastPromiseValue);\n",
              "  return Promise.resolve(next.value.promise).then((value) => {\n",
              "    // Cache the last promise value to make it available to the next\n",
              "    // step of the generator.\n",
              "    outputElement.lastPromiseValue = value;\n",
              "    return next.value.response;\n",
              "  });\n",
              "}\n",
              "\n",
              "/**\n",
              " * Generator function which is called between each async step of the upload\n",
              " * process.\n",
              " * @param {string} inputId Element ID of the input file picker element.\n",
              " * @param {string} outputId Element ID of the output display.\n",
              " * @return {!Iterable<!Object>} Iterable of next steps.\n",
              " */\n",
              "function* uploadFilesStep(inputId, outputId) {\n",
              "  const inputElement = document.getElementById(inputId);\n",
              "  inputElement.disabled = false;\n",
              "\n",
              "  const outputElement = document.getElementById(outputId);\n",
              "  outputElement.innerHTML = '';\n",
              "\n",
              "  const pickedPromise = new Promise((resolve) => {\n",
              "    inputElement.addEventListener('change', (e) => {\n",
              "      resolve(e.target.files);\n",
              "    });\n",
              "  });\n",
              "\n",
              "  const cancel = document.createElement('button');\n",
              "  inputElement.parentElement.appendChild(cancel);\n",
              "  cancel.textContent = 'Cancel upload';\n",
              "  const cancelPromise = new Promise((resolve) => {\n",
              "    cancel.onclick = () => {\n",
              "      resolve(null);\n",
              "    };\n",
              "  });\n",
              "\n",
              "  // Wait for the user to pick the files.\n",
              "  const files = yield {\n",
              "    promise: Promise.race([pickedPromise, cancelPromise]),\n",
              "    response: {\n",
              "      action: 'starting',\n",
              "    }\n",
              "  };\n",
              "\n",
              "  cancel.remove();\n",
              "\n",
              "  // Disable the input element since further picks are not allowed.\n",
              "  inputElement.disabled = true;\n",
              "\n",
              "  if (!files) {\n",
              "    return {\n",
              "      response: {\n",
              "        action: 'complete',\n",
              "      }\n",
              "    };\n",
              "  }\n",
              "\n",
              "  for (const file of files) {\n",
              "    const li = document.createElement('li');\n",
              "    li.append(span(file.name, {fontWeight: 'bold'}));\n",
              "    li.append(span(\n",
              "        `(${file.type || 'n/a'}) - ${file.size} bytes, ` +\n",
              "        `last modified: ${\n",
              "            file.lastModifiedDate ? file.lastModifiedDate.toLocaleDateString() :\n",
              "                                    'n/a'} - `));\n",
              "    const percent = span('0% done');\n",
              "    li.appendChild(percent);\n",
              "\n",
              "    outputElement.appendChild(li);\n",
              "\n",
              "    const fileDataPromise = new Promise((resolve) => {\n",
              "      const reader = new FileReader();\n",
              "      reader.onload = (e) => {\n",
              "        resolve(e.target.result);\n",
              "      };\n",
              "      reader.readAsArrayBuffer(file);\n",
              "    });\n",
              "    // Wait for the data to be ready.\n",
              "    let fileData = yield {\n",
              "      promise: fileDataPromise,\n",
              "      response: {\n",
              "        action: 'continue',\n",
              "      }\n",
              "    };\n",
              "\n",
              "    // Use a chunked sending to avoid message size limits. See b/62115660.\n",
              "    let position = 0;\n",
              "    do {\n",
              "      const length = Math.min(fileData.byteLength - position, MAX_PAYLOAD_SIZE);\n",
              "      const chunk = new Uint8Array(fileData, position, length);\n",
              "      position += length;\n",
              "\n",
              "      const base64 = btoa(String.fromCharCode.apply(null, chunk));\n",
              "      yield {\n",
              "        response: {\n",
              "          action: 'append',\n",
              "          file: file.name,\n",
              "          data: base64,\n",
              "        },\n",
              "      };\n",
              "\n",
              "      let percentDone = fileData.byteLength === 0 ?\n",
              "          100 :\n",
              "          Math.round((position / fileData.byteLength) * 100);\n",
              "      percent.textContent = `${percentDone}% done`;\n",
              "\n",
              "    } while (position < fileData.byteLength);\n",
              "  }\n",
              "\n",
              "  // All done.\n",
              "  yield {\n",
              "    response: {\n",
              "      action: 'complete',\n",
              "    }\n",
              "  };\n",
              "}\n",
              "\n",
              "scope.google = scope.google || {};\n",
              "scope.google.colab = scope.google.colab || {};\n",
              "scope.google.colab._files = {\n",
              "  _uploadFiles,\n",
              "  _uploadFilesContinue,\n",
              "};\n",
              "})(self);\n",
              "</script> "
            ]
          },
          "metadata": {}
        },
        {
          "output_type": "stream",
          "name": "stdout",
          "text": [
            "Saving gene_level.copy_number_variation.tsv to gene_level.copy_number_variation (2).tsv\n",
            "Saving gene_statistics.csv to gene_statistics (2).csv\n",
            "\n",
            "gene-level copy number variation:\n",
            "             gene_id    gene_name chromosome  start    end  copy_number  \\\n",
            "0  ENSG00000223972.5      DDX11L1       chr1  11869  14409          5.0   \n",
            "1  ENSG00000227232.5       WASH7P       chr1  14404  29570          5.0   \n",
            "2  ENSG00000278267.1    MIR6859-1       chr1  17369  17436          5.0   \n",
            "3  ENSG00000243485.5  MIR1302-2HG       chr1  29554  31109          5.0   \n",
            "4  ENSG00000284332.1    MIR1302-2       chr1  30366  30503          5.0   \n",
            "\n",
            "   min_copy_number  max_copy_number  \n",
            "0              5.0              5.0  \n",
            "1              5.0              5.0  \n",
            "2              5.0              5.0  \n",
            "3              5.0              5.0  \n",
            "4              5.0              5.0  \n",
            "\n",
            "gene expression statistics:\n",
            "         Gene       Sum      Mean      Variance\n",
            "0      WASH7P  0.032887  0.000003  5.050720e-10\n",
            "1  AL627309.6  0.019918  0.000002  2.786811e-10\n",
            "2  AL627309.5  0.026787  0.000002  3.660201e-10\n",
            "3  AP006222.1  0.030912  0.000003  4.045039e-10\n",
            "4  AL732372.2  0.032781  0.000003  4.432381e-10\n"
          ]
        }
      ]
    },
    {
      "cell_type": "markdown",
      "metadata": {
        "id": "CLkhwI3O4nTj"
      },
      "source": [
        "Or retrieve combined CNV data locally"
      ]
    },
    {
      "cell_type": "code",
      "execution_count": null,
      "metadata": {
        "id": "cvQc8hEuP8Zf"
      },
      "outputs": [],
      "source": [
        "file_path = \"D:/GDC-data/ground_truth_combined.csv\"\n",
        "df = pd.read_csv(file_path, delimiter=',')\n",
        "print(df.head())"
      ]
    },
    {
      "cell_type": "markdown",
      "source": [
        "Merge the dataframes on `gene_name` from `df_cnv` and `Gene` from `df_ge`. Use left join to preserve all rows from `df_cnv`"
      ],
      "metadata": {
        "id": "zFIeg_JFgpPa"
      }
    },
    {
      "cell_type": "code",
      "source": [
        "df_cnv_ge = pd.merge(df_cnv, df_ge[['Gene', 'Sum']], left_on='gene_name', right_on='Gene', how='left')\n",
        "\n",
        "df_cnv_ge = df_cnv_ge.rename(columns={'Sum': 'gene_expr'}) # rename Sum col to gene_expr in the merged df\n",
        "df_cnv_ge = df_cnv_ge.drop(columns='Gene') # drop unnecessary Gene col from former stats csv\n",
        "\n",
        "print(df_cnv_ge.head(30))"
      ],
      "metadata": {
        "id": "QJQVpAcxgnd6",
        "colab": {
          "base_uri": "https://localhost:8080/"
        },
        "outputId": "7c359b06-953b-4100-f90e-8c3aeee876ae"
      },
      "execution_count": 13,
      "outputs": [
        {
          "output_type": "stream",
          "name": "stdout",
          "text": [
            "               gene_id    gene_name chromosome   start     end  copy_number  \\\n",
            "0    ENSG00000223972.5      DDX11L1       chr1   11869   14409          5.0   \n",
            "1    ENSG00000227232.5       WASH7P       chr1   14404   29570          5.0   \n",
            "2    ENSG00000278267.1    MIR6859-1       chr1   17369   17436          5.0   \n",
            "3    ENSG00000243485.5  MIR1302-2HG       chr1   29554   31109          5.0   \n",
            "4    ENSG00000284332.1    MIR1302-2       chr1   30366   30503          5.0   \n",
            "5    ENSG00000237613.2      FAM138A       chr1   34554   36081          5.0   \n",
            "6    ENSG00000268020.3       OR4G4P       chr1   52473   53312          5.0   \n",
            "7    ENSG00000240361.2      OR4G11P       chr1   57598   64116          5.0   \n",
            "8    ENSG00000186092.6        OR4F5       chr1   65419   71585          5.0   \n",
            "9    ENSG00000238009.6   AL627309.1       chr1   89295  133723          5.0   \n",
            "10   ENSG00000239945.1   AL627309.3       chr1   89551   91105          5.0   \n",
            "11   ENSG00000233750.3       CICP27       chr1  131025  134836          5.0   \n",
            "12   ENSG00000268903.1   AL627309.6       chr1  135141  135895          5.0   \n",
            "13   ENSG00000269981.1   AL627309.7       chr1  137682  137965          5.0   \n",
            "14   ENSG00000239906.1   AL627309.2       chr1  139790  140339          5.0   \n",
            "15   ENSG00000241860.7   AL627309.5       chr1  141474  173862          5.0   \n",
            "16   ENSG00000222623.1   RNU6-1100P       chr1  157784  157887          5.0   \n",
            "17   ENSG00000241599.1   AL627309.4       chr1  160446  161525          5.0   \n",
            "18   ENSG00000279928.2   FO538757.1       chr1  182696  184174          5.0   \n",
            "19   ENSG00000279457.4       WASH9P       chr1  185217  195411          5.0   \n",
            "20   ENSG00000273874.1    MIR6859-2       chr1  187891  187958          5.0   \n",
            "21  ENSG00000228463.10   AP006222.1       chr1  257864  359681          5.0   \n",
            "22   ENSG00000286448.1   AP006222.2       chr1  266855  268655          5.0   \n",
            "23   ENSG00000236679.2    RPL23AP24       chr1  347982  348366          5.0   \n",
            "24   ENSG00000236601.2   AL732372.1       chr1  358857  366052          5.0   \n",
            "25  ENSG00000237094.12   AL732372.2       chr1  365389  522928          5.0   \n",
            "26   ENSG00000269732.1      WBP1LP7       chr1  439870  440232          5.0   \n",
            "27   ENSG00000284733.1       OR4F29       chr1  450703  451697          5.0   \n",
            "28   ENSG00000233653.3        CICP7       chr1  487101  489906          5.0   \n",
            "29   ENSG00000250575.1   AL732372.3       chr1  491225  493241          5.0   \n",
            "\n",
            "    min_copy_number  max_copy_number  gene_expr  \n",
            "0               5.0              5.0        NaN  \n",
            "1               5.0              5.0   0.032887  \n",
            "2               5.0              5.0        NaN  \n",
            "3               5.0              5.0        NaN  \n",
            "4               5.0              5.0        NaN  \n",
            "5               5.0              5.0        NaN  \n",
            "6               5.0              5.0        NaN  \n",
            "7               5.0              5.0        NaN  \n",
            "8               5.0              5.0        NaN  \n",
            "9               5.0              5.0        NaN  \n",
            "10              5.0              5.0        NaN  \n",
            "11              5.0              5.0        NaN  \n",
            "12              5.0              5.0   0.019918  \n",
            "13              5.0              5.0        NaN  \n",
            "14              5.0              5.0        NaN  \n",
            "15              5.0              5.0   0.026787  \n",
            "16              5.0              5.0        NaN  \n",
            "17              5.0              5.0        NaN  \n",
            "18              5.0              5.0        NaN  \n",
            "19              5.0              5.0        NaN  \n",
            "20              5.0              5.0        NaN  \n",
            "21              5.0              5.0   0.030912  \n",
            "22              5.0              5.0        NaN  \n",
            "23              5.0              5.0        NaN  \n",
            "24              5.0              5.0        NaN  \n",
            "25              5.0              5.0   0.032781  \n",
            "26              5.0              5.0        NaN  \n",
            "27              5.0              5.0        NaN  \n",
            "28              5.0              5.0        NaN  \n",
            "29              5.0              5.0        NaN  \n"
          ]
        }
      ]
    },
    {
      "cell_type": "markdown",
      "source": [
        "Note that there is missing gene expression data (NaN values) in this test due to two reasons:\n",
        "- The CNV data includes both tumor and normal examples. These will not map one-to-one with the stats file, which comes from the dense matrix of only tumor examples.\n",
        "- The stats file used is not the corresponding one to this specific CNV data, but a basic comparison with enough common genes to test the mapping."
      ],
      "metadata": {
        "id": "WnGQg1ecxFS9"
      }
    }
  ],
  "metadata": {
    "colab": {
      "provenance": []
    },
    "kernelspec": {
      "display_name": "Python 3 (ipykernel)",
      "language": "python",
      "name": "python3"
    },
    "language_info": {
      "codemirror_mode": {
        "name": "ipython",
        "version": 3
      },
      "file_extension": ".py",
      "mimetype": "text/x-python",
      "name": "python",
      "nbconvert_exporter": "python",
      "pygments_lexer": "ipython3",
      "version": "3.11.4"
    }
  },
  "nbformat": 4,
  "nbformat_minor": 0
}
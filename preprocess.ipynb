{
 "cells": [
  {
   "cell_type": "markdown",
   "id": "c34d64d6",
   "metadata": {},
   "source": [
    "Gene Expression Data Preprocessing\n",
    "\n",
    "Overview:\n",
    "This notebook performs normalization, filtering, and statistical analysis of gene expression data\n",
    "from single-cell RNA sequencing (scRNA-seq).\n",
    "\n",
    "The workflow involves:\n",
    "1. Loading and cleaning the gene expression data from a CSV file.\n",
    "2. Normalizing the data by calculating the gene expression ratio for each gene in each cell.\n",
    "   (Each cell's gene expression value is divided by the total RNA detected for that cell.)\n",
    "3. Filtering out low-expression genes, removing genes expressed in less than 1% of the cells.\n",
    "4. Computing key statistics for each gene, including the sum of gene expression, mean expression ratio,\n",
    "   and variance.\n",
    "5. Saving the results to a text file for further analysis."
   ]
  },
  {
   "cell_type": "code",
   "execution_count": 10,
   "id": "4ff2dc71",
   "metadata": {
    "lines_to_next_cell": 1
   },
   "outputs": [],
   "source": [
    "# Required Libraries\n",
    "import pandas as pd\n",
    "from tqdm import tqdm"
   ]
  },
  {
   "cell_type": "code",
   "execution_count": 11,
   "id": "c2bfa5d7",
   "metadata": {
    "lines_to_next_cell": 1
   },
   "outputs": [],
   "source": [
    "# Function to Load and Clean Data\n",
    "def load_and_clean_data(file_path, chunksize=1000):\n",
    "    \"\"\"\n",
    "    Load gene expression data in chunks and remove rows with all zero values.\n",
    "    :param file_path: Path to the CSV file containing gene expression data.\n",
    "    :param chunksize: Number of rows to process in each chunk (for large files).\n",
    "    :return: Cleaned gene expression data.\n",
    "    \"\"\"\n",
    "    chunks = []\n",
    "    total_rows = sum(1 for _ in open(file_path)) - 1  # Subtract 1 for the header\n",
    "    with pd.read_csv(file_path, index_col=0, chunksize=chunksize) as reader:\n",
    "        for chunk in tqdm(reader, desc=\"Reading and cleaning data\", total=total_rows // chunksize):\n",
    "            chunk = chunk.loc[~(chunk == 0).all(axis=1)]\n",
    "            chunks.append(chunk)\n",
    "    data = pd.concat(chunks, axis=0)\n",
    "    return data"
   ]
  },
  {
   "cell_type": "code",
   "execution_count": 12,
   "id": "49f5281c",
   "metadata": {
    "lines_to_next_cell": 1
   },
   "outputs": [],
   "source": [
    "# Function to Normalize Gene Expression Data\n",
    "def normalize_gene_expression(data):\n",
    "    \"\"\"\n",
    "    Normalize gene expression by dividing each value by the sum of its respective column.\n",
    "    :param data: Gene expression data (pandas DataFrame).\n",
    "    :return: Normalized gene expression data.\n",
    "    \"\"\"\n",
    "    column_sums = data.sum(axis=0)\n",
    "    normalized_data = data.copy()\n",
    "    for col in tqdm(data.columns, desc=\"Normalizing gene expression\"):\n",
    "        normalized_data[col] = data[col] / column_sums[col]\n",
    "    return normalized_data"
   ]
  },
  {
   "cell_type": "code",
   "execution_count": 13,
   "id": "6a47f119",
   "metadata": {
    "lines_to_next_cell": 1
   },
   "outputs": [],
   "source": [
    "# Function to Filter Low-Expression Genes\n",
    "def filter_low_expression_genes(data, threshold=0.01):\n",
    "    \"\"\"\n",
    "    Filter out genes expressed in less than a certain percentage of cells.\n",
    "    :param data: Normalized gene expression data (pandas DataFrame).\n",
    "    :param threshold: Minimum percentage of cells in which a gene must be expressed.\n",
    "    :return: Filtered gene expression data.\n",
    "    \"\"\"\n",
    "    non_zero_counts = (data > 0).sum(axis=1)\n",
    "    num_cells = data.shape[1]\n",
    "    min_cells_expressed = threshold * num_cells\n",
    "    filtered_data = data.loc[non_zero_counts >= min_cells_expressed]\n",
    "    return filtered_data"
   ]
  },
  {
   "cell_type": "code",
   "execution_count": 14,
   "id": "5eff2f93",
   "metadata": {
    "lines_to_next_cell": 1
   },
   "outputs": [],
   "source": [
    "# Function to Compute Gene Statistics\n",
    "def compute_gene_statistics(data):\n",
    "    \"\"\"\n",
    "    Compute the sum, mean, and variance for each gene across all cells.\n",
    "    :param data: Filtered gene expression data (pandas DataFrame).\n",
    "    :return: Dictionary containing statistics (sum, mean, variance) for each gene.\n",
    "    \"\"\"\n",
    "    gene_statistics = {}\n",
    "    \n",
    "    for gene in tqdm(data.index, desc=\"Calculating gene statistics\"):\n",
    "        gene_values = data.loc[gene].values  # Get the values as a numpy array\n",
    "        gene_sum = gene_values.sum()  # Sum of gene expression across all cells\n",
    "        mean_expression = gene_values.mean()  # Mean expression ratio\n",
    "        variance = gene_values.var()  # Variance of expression\n",
    "        \n",
    "        # Store results in the dictionary\n",
    "        gene_statistics[gene] = [gene_sum, mean_expression, variance]\n",
    "    \n",
    "    return gene_statistics"
   ]
  },
  {
   "cell_type": "code",
   "execution_count": 15,
   "id": "243ba8a2",
   "metadata": {
    "lines_to_next_cell": 1
   },
   "outputs": [],
   "source": [
    "# Function to Save Gene Statistics to a File\n",
    "def save_dict_to_file(gene_statistics, output_file=\"gene_statistics.txt\"):\n",
    "    \"\"\"\n",
    "    Save the computed gene statistics to a text file.\n",
    "    :param gene_statistics: Dictionary containing gene statistics.\n",
    "    :param output_file: Output file name.\n",
    "    \"\"\"\n",
    "    with open(output_file, 'w') as f:\n",
    "        for gene, stats in gene_statistics.items():\n",
    "            gene_sum, mean_expression, variance = stats\n",
    "            f.write(f\"{gene}: Sum = {gene_sum}, Mean = {mean_expression}, Variance = {variance}\\n\")\n",
    "    print(f\"Gene statistics saved to '{output_file}'.\")"
   ]
  },
  {
   "cell_type": "code",
   "execution_count": 16,
   "id": "1ebc8c93",
   "metadata": {
    "lines_to_next_cell": 1
   },
   "outputs": [],
   "source": [
    "# Main Processing Function\n",
    "def process_gene_expression_data(file_path, threshold=0.01, chunksize=1000):\n",
    "    \"\"\"\n",
    "    Main function to process gene expression data: load, clean, normalize, filter, and compute statistics.\n",
    "    :param file_path: Path to the gene expression CSV file.\n",
    "    :param threshold: Minimum percentage of cells for filtering genes.\n",
    "    :param chunksize: Number of rows to process per chunk (for large files).\n",
    "    :return: Dictionary containing computed gene statistics.\n",
    "    \"\"\"\n",
    "    data = load_and_clean_data(file_path, chunksize=chunksize)\n",
    "    print(\"Normalizing gene expression data...\")\n",
    "    normalized_data = normalize_gene_expression(data)\n",
    "    print(\"Filtering low-expression genes...\")\n",
    "    filtered_data = filter_low_expression_genes(normalized_data, threshold)\n",
    "    \n",
    "    # Compute gene statistics and store in a dictionary\n",
    "    gene_statistics = compute_gene_statistics(filtered_data)\n",
    "    \n",
    "    return gene_statistics"
   ]
  },
  {
   "cell_type": "code",
   "execution_count": 17,
   "id": "ac2485c6",
   "metadata": {},
   "outputs": [],
   "source": [
    "# Input Path Prompt for Reproducibility\n",
    "# The user is prompted to input the path to the CSV file dynamically\n",
    "file_path = input(\"Please enter the path to your gene expression CSV file (dense matrix): \")\n",
    "threshold = 0.01  # Example threshold for gene expression filtering\n",
    "chunksize = 1000  # Set chunk size for reading the file"
   ]
  },
  {
   "cell_type": "code",
   "execution_count": 18,
   "id": "bb38c096",
   "metadata": {},
   "outputs": [
    {
     "name": "stderr",
     "output_type": "stream",
     "text": [
      "Reading and cleaning data: 61it [02:14,  2.21s/it]                        \n"
     ]
    },
    {
     "name": "stdout",
     "output_type": "stream",
     "text": [
      "Normalizing gene expression data...\n"
     ]
    },
    {
     "name": "stderr",
     "output_type": "stream",
     "text": [
      "Normalizing gene expression: 100%|██████████| 12333/12333 [00:17<00:00, 709.61it/s]\n"
     ]
    },
    {
     "name": "stdout",
     "output_type": "stream",
     "text": [
      "Filtering low-expression genes...\n"
     ]
    },
    {
     "name": "stderr",
     "output_type": "stream",
     "text": [
      "Calculating gene statistics: 100%|██████████| 19603/19603 [07:05<00:00, 46.09it/s]\n"
     ]
    },
    {
     "name": "stdout",
     "output_type": "stream",
     "text": [
      "Gene statistics saved to 'gene_statistics.txt'.\n"
     ]
    }
   ],
   "source": [
    "# Process the data and save results\n",
    "try:\n",
    "    gene_statistics = process_gene_expression_data(file_path, threshold, chunksize)\n",
    "\n",
    "    # Save gene statistics to a text file\n",
    "    save_dict_to_file(gene_statistics, \"gene_statistics.txt\")\n",
    "except Exception as e:\n",
    "    print(f\"An error occurred during processing: {e}\")"
   ]
  }
 ],
 "metadata": {
  "jupytext": {
   "cell_metadata_filter": "-all",
   "main_language": "python",
   "notebook_metadata_filter": "-all"
  },
  "kernelspec": {
   "display_name": "Python 3",
   "language": "python",
   "name": "python3"
  },
  "language_info": {
   "codemirror_mode": {
    "name": "ipython",
    "version": 3
   },
   "file_extension": ".py",
   "mimetype": "text/x-python",
   "name": "python",
   "nbconvert_exporter": "python",
   "pygments_lexer": "ipython3",
   "version": "3.9.0"
  }
 },
 "nbformat": 4,
 "nbformat_minor": 5
}

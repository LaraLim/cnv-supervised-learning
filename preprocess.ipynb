{
 "cells": [
  {
   "cell_type": "markdown",
   "id": "c34d64d6",
   "metadata": {},
   "source": [
    "Gene Expression Data Preprocessing\n",
    "\n",
    "Overview:\n",
    "This notebook performs normalization, filtering, and statistical analysis of gene expression data\n",
    "from single-cell RNA sequencing (scRNA-seq).\n",
    "\n",
    "The workflow involves:\n",
    "1. Loading and cleaning the gene expression data from a CSV file.\n",
    "2. Normalizing the data by calculating the gene expression ratio for each gene in each cell.\n",
    "   (Each cell's gene expression value is divided by the total RNA detected for that cell.)\n",
    "3. Filtering out low-expression genes, removing genes expressed in less than 1% of the cells.\n",
    "4. Computing key statistics for each gene, including the sum of gene expression, mean expression ratio,\n",
    "   and variance.\n",
    "5. Saving the results to a csv file for further analysis."
   ]
  },
  {
   "cell_type": "code",
   "execution_count": 1,
   "id": "4ff2dc71",
   "metadata": {
    "lines_to_next_cell": 1
   },
   "outputs": [],
   "source": [
    "# Required Libraries\n",
    "import pandas as pd\n",
    "from tqdm import tqdm\n",
    "import os\n",
    "from concurrent.futures import ThreadPoolExecutor"
   ]
  },
  {
   "cell_type": "code",
   "execution_count": 2,
   "id": "c2bfa5d7",
   "metadata": {
    "lines_to_next_cell": 1
   },
   "outputs": [],
   "source": [
    "# Function to load and clean data in chunks, allowing for large files to be processed\n",
    "def load_and_clean_data(file_path, chunksize=1000):\n",
    "    \"\"\"\n",
    "    Loads and cleans the data from a CSV file in chunks.\n",
    "    It removes rows where all values are zero.\n",
    "    \n",
    "    Parameters:\n",
    "    - file_path: str, the path to the CSV file\n",
    "    - chunksize: int, the number of rows per chunk\n",
    "\n",
    "    Returns:\n",
    "    - data: DataFrame, the concatenated and cleaned data\n",
    "    \"\"\"\n",
    "    chunks = []  # List to store chunks\n",
    "    total_rows = sum(1 for _ in open(file_path)) - 1  # Calculate total rows minus header row\n",
    "    \n",
    "    # Read the data in chunks and remove rows where all values are zero\n",
    "    try:\n",
    "        with pd.read_csv(file_path, index_col=0, chunksize=chunksize) as reader:\n",
    "            for chunk in tqdm(reader, desc=\"Reading and cleaning data\", total=total_rows // chunksize):\n",
    "                # Remove rows where all values are zero\n",
    "                chunk = chunk.loc[~(chunk == 0).all(axis=1)]\n",
    "                chunks.append(chunk)\n",
    "    except pd.errors.ParserError as e:\n",
    "        print(f\"Error reading CSV file: {e}\")\n",
    "    except Exception as e:\n",
    "        print(f\"An unexpected error occurred: {e}\")\n",
    "    \n",
    "    # Concatenate the chunks into a single DataFrame\n",
    "    data = pd.concat(chunks, axis=0)\n",
    "    return data"
   ]
  },
  {
   "cell_type": "code",
   "execution_count": 3,
   "id": "49f5281c",
   "metadata": {
    "lines_to_next_cell": 1
   },
   "outputs": [],
   "source": [
    "# Function to normalize the gene expression data by dividing each gene expression by the column sum\n",
    "def normalize_gene_expression(data):\n",
    "    \"\"\"\n",
    "    Normalizes gene expression data by dividing each value by the sum of its column (i.e., total expression per gene).\n",
    "    \n",
    "    Parameters:\n",
    "    - data: DataFrame, the gene expression data\n",
    "    \n",
    "    Returns:\n",
    "    - normalized_data: DataFrame, the normalized data\n",
    "    \"\"\"\n",
    "    column_sums = data.sum(axis=0)  # Sum of expression values for each gene\n",
    "    normalized_data = data.copy()   # Create a copy to avoid modifying the original data\n",
    "    \n",
    "    # Normalize each column by dividing by its column sum\n",
    "    for col in tqdm(data.columns, desc=\"Normalizing gene expression\"):\n",
    "        normalized_data[col] = data[col] / column_sums[col]\n",
    "    \n",
    "    return normalized_data"
   ]
  },
  {
   "cell_type": "code",
   "execution_count": 4,
   "id": "6a47f119",
   "metadata": {
    "lines_to_next_cell": 1
   },
   "outputs": [],
   "source": [
    "# Function to filter out genes with low expression based on a threshold\n",
    "def filter_low_expression_genes(data, threshold=0.01):\n",
    "    \"\"\"\n",
    "    Filters out genes with low expression across cells based on a threshold.\n",
    "    \n",
    "    Parameters:\n",
    "    - data: DataFrame, the normalized gene expression data\n",
    "    - threshold: float, the minimum percentage of cells where a gene must be expressed to retain the gene\n",
    "    \n",
    "    Returns:\n",
    "    - filtered_data: DataFrame, the filtered data\n",
    "    \"\"\"\n",
    "    num_cells = data.shape[1]  # Number of cells (columns)\n",
    "    min_cells_expressed = threshold * num_cells  # Minimum number of cells required for a gene to be expressed\n",
    "    non_zero_counts = (data > 0).sum(axis=1)  # Count of non-zero values per gene (row)\n",
    "    \n",
    "    # Use .loc to filter rows (genes) based on the condition\n",
    "    filtered_data = data.loc[non_zero_counts >= min_cells_expressed]\n",
    "    \n",
    "    # Print the number of genes retained after filtering\n",
    "    print(f\"Filtering complete: {filtered_data.shape[0]} genes retained out of {data.shape[0]} total.\")\n",
    "    \n",
    "    return filtered_data"
   ]
  },
  {
   "cell_type": "code",
   "execution_count": 5,
   "id": "5eff2f93",
   "metadata": {
    "lines_to_next_cell": 1
   },
   "outputs": [],
   "source": [
    "# Function to compute gene statistics like sum, mean, and variance for each gene\n",
    "def compute_gene_statistics(data):\n",
    "    \"\"\"\n",
    "    Computes gene statistics such as sum, mean, and variance for each gene across all cells.\n",
    "    \n",
    "    Parameters:\n",
    "    - data: DataFrame, the filtered gene expression data\n",
    "    \n",
    "    Returns:\n",
    "    - gene_statistics: dict, a dictionary of gene statistics where keys are gene names\n",
    "      and values are lists containing sum, mean, and variance for each gene\n",
    "    \"\"\"\n",
    "    gene_statistics = {}  # Dictionary to store statistics\n",
    "    \n",
    "    # Function to calculate statistics for a single gene\n",
    "    def calc_stats(gene):\n",
    "        gene_values = data.loc[gene].values  # Get expression values for the gene\n",
    "        gene_sum = gene_values.sum()         # Total expression across all cells\n",
    "        mean_expression = gene_values.mean() # Mean expression value\n",
    "        variance = gene_values.var()         # Variance of expression\n",
    "        return gene, [gene_sum, mean_expression, variance]\n",
    "\n",
    "    # Use tqdm to show progress bar while calculating gene statistics\n",
    "    with ThreadPoolExecutor() as executor:\n",
    "        results = tqdm(executor.map(calc_stats, data.index), total=len(data.index), desc=\"Calculating gene statistics\")\n",
    "        \n",
    "        # Update the dictionary with calculated statistics\n",
    "        for gene, stats in results:\n",
    "            gene_statistics[gene] = stats\n",
    "\n",
    "    return gene_statistics"
   ]
  },
  {
   "cell_type": "code",
   "execution_count": 6,
   "id": "243ba8a2",
   "metadata": {
    "lines_to_next_cell": 1
   },
   "outputs": [],
   "source": [
    "# Function to save gene statistics to a CSV file\n",
    "def save_dict_to_csv(gene_statistics, output_file=\"gene_statistics.csv\"):\n",
    "    \"\"\"\n",
    "    Saves the gene statistics dictionary to a CSV file.\n",
    "    \n",
    "    Parameters:\n",
    "    - gene_statistics: dict, the dictionary containing gene statistics\n",
    "    - output_file: str, the name of the output CSV file\n",
    "    \n",
    "    Returns:\n",
    "    - None\n",
    "    \"\"\"\n",
    "    import csv\n",
    "    with open(output_file, 'w', newline='') as f:\n",
    "        writer = csv.writer(f)\n",
    "        # Write header row\n",
    "        writer.writerow([\"Gene\", \"Sum\", \"Mean\", \"Variance\"])\n",
    "        # Write gene statistics\n",
    "        for gene, stats in gene_statistics.items():\n",
    "            writer.writerow([gene] + stats)\n",
    "    \n",
    "    print(f\"Gene statistics saved to '{output_file}'.\")"
   ]
  },
  {
   "cell_type": "code",
   "execution_count": 7,
   "id": "1ebc8c93",
   "metadata": {
    "lines_to_next_cell": 1
   },
   "outputs": [],
   "source": [
    "def process_gene_expression_data(file_path, threshold=0.01, chunksize=1000):\n",
    "    \"\"\"\n",
    "    Processes the gene expression data by loading, cleaning, normalizing, filtering,\n",
    "    and computing statistics for gene expression data.\n",
    "    \n",
    "    Parameters:\n",
    "    - file_path: str, the path to the gene expression data file\n",
    "    - threshold: float, the minimum percentage of cells where a gene must be expressed\n",
    "    - chunksize: int, the number of rows to read per chunk when loading data\n",
    "    \n",
    "    Returns:\n",
    "    - gene_statistics: dict, the dictionary of computed gene statistics\n",
    "    \"\"\"\n",
    "    # Load and clean the data in chunks\n",
    "    data = load_and_clean_data(file_path, chunksize=chunksize)\n",
    "    \n",
    "    # Normalize the gene expression data\n",
    "    print(\"Normalizing gene expression data...\")\n",
    "    normalized_data = normalize_gene_expression(data)\n",
    "    \n",
    "    # Filter out low-expression genes based on the threshold\n",
    "    print(\"Filtering low-expression genes...\")\n",
    "    filtered_data = filter_low_expression_genes(normalized_data, threshold)\n",
    "    \n",
    "    # Compute gene statistics for the filtered data\n",
    "    gene_statistics = compute_gene_statistics(filtered_data)\n",
    "    \n",
    "    return gene_statistics"
   ]
  },
  {
   "cell_type": "code",
   "execution_count": 8,
   "id": "ac2485c6",
   "metadata": {},
   "outputs": [],
   "source": [
    "# Input Path Prompt for Reproducibility\n",
    "# The user is prompted to input the path to the CSV file dynamically\n",
    "file_path = input(\"Please enter the path to your gene expression CSV file (dense matrix): \")\n",
    "threshold = 0.01  # Threshold for filtering low-expression genes\n",
    "chunksize = 1000  # Number of rows to read per chunk"
   ]
  },
  {
   "cell_type": "code",
   "execution_count": 9,
   "id": "bb38c096",
   "metadata": {},
   "outputs": [
    {
     "name": "stderr",
     "output_type": "stream",
     "text": [
      "Reading and cleaning data: 61it [02:10,  2.14s/it]                        \n"
     ]
    },
    {
     "name": "stdout",
     "output_type": "stream",
     "text": [
      "Normalizing gene expression data...\n"
     ]
    },
    {
     "name": "stderr",
     "output_type": "stream",
     "text": [
      "Normalizing gene expression: 100%|██████████| 12333/12333 [00:20<00:00, 601.93it/s]\n"
     ]
    },
    {
     "name": "stdout",
     "output_type": "stream",
     "text": [
      "Filtering low-expression genes...\n",
      "Filtering complete: 19603 genes retained out of 43011 total.\n"
     ]
    },
    {
     "name": "stderr",
     "output_type": "stream",
     "text": [
      "Calculating gene statistics: 100%|██████████| 19603/19603 [07:33<00:00, 43.25it/s]  \n"
     ]
    },
    {
     "name": "stdout",
     "output_type": "stream",
     "text": [
      "Gene statistics saved to 'gene_statistics.csv'.\n"
     ]
    }
   ],
   "source": [
    "# Process the data and save results\n",
    "try:\n",
    "    # Process the gene expression data and compute statistics\n",
    "    gene_statistics = process_gene_expression_data(file_path, threshold, chunksize)\n",
    "\n",
    "    # Save the computed gene statistics to a CSV file\n",
    "    save_dict_to_csv(gene_statistics, \"gene_statistics.csv\")\n",
    "\n",
    "except Exception as e:\n",
    "    print(f\"An error occurred during processing: {e}\")"
   ]
  }
 ],
 "metadata": {
  "jupytext": {
   "cell_metadata_filter": "-all",
   "main_language": "python",
   "notebook_metadata_filter": "-all"
  },
  "kernelspec": {
   "display_name": "Python 3",
   "language": "python",
   "name": "python3"
  },
  "language_info": {
   "codemirror_mode": {
    "name": "ipython",
    "version": 3
   },
   "file_extension": ".py",
   "mimetype": "text/x-python",
   "name": "python",
   "nbconvert_exporter": "python",
   "pygments_lexer": "ipython3",
   "version": "3.9.0"
  }
 },
 "nbformat": 4,
 "nbformat_minor": 5
}

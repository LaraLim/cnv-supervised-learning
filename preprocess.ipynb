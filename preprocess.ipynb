{
 "cells": [
  {
   "cell_type": "markdown",
   "id": "c34d64d6",
   "metadata": {},
   "source": [
    "Gene Expression Data Preprocessing\n",
    "\n",
    "Overview:\n",
    "This notebook performs normalization, filtering, and statistical analysis of gene expression data\n",
    "from single-cell RNA sequencing (scRNA-seq).\n",
    "\n",
    "The workflow involves:\n",
    "1. Loading and cleaning the gene expression data from a CSV file.\n",
    "2. Normalizing the data by calculating the gene expression ratio for each gene in each cell.\n",
    "   (Each cell's gene expression value is divided by the total RNA detected for that cell.)\n",
    "3. Computing key statistics for each gene, including the sum of gene expression, mean expression ratio,\n",
    "   and variance.\n",
    "4. Saving the results to a csv file in the 'gene_statistics' output dir for further analysis."
   ]
  },
  {
   "cell_type": "code",
   "execution_count": 1,
   "id": "4ff2dc71",
   "metadata": {
    "lines_to_next_cell": 1
   },
   "outputs": [],
   "source": [
    "# Required Libraries\n",
    "import os\n",
    "import pandas as pd\n",
    "from tqdm import tqdm\n",
    "from concurrent.futures import ThreadPoolExecutor\n",
    "import csv"
   ]
  },
  {
   "cell_type": "code",
   "execution_count": 2,
   "id": "c2bfa5d7",
   "metadata": {
    "lines_to_next_cell": 1
   },
   "outputs": [],
   "source": [
    "# Function to load and clean data in chunks, allowing for large files to be processed\n",
    "def load_and_clean_data(file_path, chunksize=1000):\n",
    "    \"\"\"\n",
    "    Loads and cleans the data from a CSV file in chunks.\n",
    "    It removes rows where all values are zero.\n",
    "    \n",
    "    Parameters:\n",
    "    - file_path: str, the path to the CSV file\n",
    "    - chunksize: int, the number of rows per chunk\n",
    "\n",
    "    Returns:\n",
    "    - data: DataFrame, the concatenated and cleaned data\n",
    "    \"\"\"\n",
    "    chunks = []  # List to store chunks\n",
    "    total_rows = sum(1 for _ in open(file_path)) - 1  # Calculate total rows minus header row\n",
    "    \n",
    "    # Read the data in chunks and remove rows where all values are zero\n",
    "    try:\n",
    "        with pd.read_csv(file_path, index_col=0, chunksize=chunksize) as reader:\n",
    "            for chunk in tqdm(reader, desc=\"Reading and cleaning data\", total=total_rows // chunksize):\n",
    "                # Remove rows where all values are zero\n",
    "                chunk = chunk.loc[~(chunk == 0).all(axis=1)]\n",
    "                chunks.append(chunk)\n",
    "    except pd.errors.ParserError as e:\n",
    "        print(f\"Error reading CSV file: {e}\")\n",
    "    except Exception as e:\n",
    "        print(f\"An unexpected error occurred: {e}\")\n",
    "    \n",
    "    # Concatenate the chunks into a single DataFrame\n",
    "    data = pd.concat(chunks, axis=0)\n",
    "    return data"
   ]
  },
  {
   "cell_type": "code",
   "execution_count": 3,
   "id": "49f5281c",
   "metadata": {
    "lines_to_next_cell": 1
   },
   "outputs": [],
   "source": [
    "# Function to normalize the gene expression data by dividing each gene expression by the column sum\n",
    "def normalize_gene_expression(data):\n",
    "    \"\"\"\n",
    "    Normalizes gene expression data by dividing each value by the sum of its column (i.e., total expression per gene).\n",
    "    \n",
    "    Parameters:\n",
    "    - data: DataFrame, the gene expression data\n",
    "    \n",
    "    Returns:\n",
    "    - normalized_data: DataFrame, the normalized data\n",
    "    \"\"\"\n",
    "    column_sums = data.sum(axis=0)  # Sum of expression values for each gene\n",
    "    normalized_data = data.copy()   # Create a copy to avoid modifying the original data\n",
    "    \n",
    "    # Normalize each column by dividing by its column sum\n",
    "    for col in tqdm(data.columns, desc=\"Normalizing gene expression\"):\n",
    "        normalized_data[col] = data[col] / column_sums[col]\n",
    "    \n",
    "    return normalized_data"
   ]
  },
  {
   "cell_type": "code",
   "execution_count": 4,
   "id": "6a47f119",
   "metadata": {
    "lines_to_next_cell": 1
   },
   "outputs": [],
   "source": [
    "# # Function to filter out genes with low expression based on a threshold\n",
    "# def filter_low_expression_genes(data, threshold=0.01):\n",
    "#     \"\"\"\n",
    "#     Filters out genes with low expression across cells based on a threshold.\n",
    "    \n",
    "#     Parameters:\n",
    "#     - data: DataFrame, the normalized gene expression data\n",
    "#     - threshold: float, the minimum percentage of cells where a gene must be expressed to retain the gene\n",
    "    \n",
    "#     Returns:\n",
    "#     - filtered_data: DataFrame, the filtered data\n",
    "#     \"\"\"\n",
    "#     num_cells = data.shape[1]  # Number of cells (columns)\n",
    "#     min_cells_expressed = threshold * num_cells  # Minimum number of cells required for a gene to be expressed\n",
    "#     non_zero_counts = (data > 0).sum(axis=1)  # Count of non-zero values per gene (row)\n",
    "    \n",
    "#     # Use .loc to filter rows (genes) based on the condition\n",
    "#     filtered_data = data.loc[non_zero_counts >= min_cells_expressed]\n",
    "    \n",
    "#     # Print the number of genes retained after filtering\n",
    "#     print(f\"Filtering complete: {filtered_data.shape[0]} genes retained out of {data.shape[0]} total.\")\n",
    "    \n",
    "#     return filtered_data"
   ]
  },
  {
   "cell_type": "code",
   "execution_count": 5,
   "id": "5eff2f93",
   "metadata": {
    "lines_to_next_cell": 1
   },
   "outputs": [],
   "source": [
    "# Function to compute gene statistics like sum, mean, and variance for each gene\n",
    "def compute_gene_statistics(data):\n",
    "    \"\"\"\n",
    "    Computes gene statistics such as sum, mean, and variance for each gene across all cells.\n",
    "    \n",
    "    Parameters:\n",
    "    - data: DataFrame, the filtered gene expression data\n",
    "    \n",
    "    Returns:\n",
    "    - gene_statistics: dict, a dictionary of gene statistics where keys are gene names\n",
    "      and values are lists containing sum, mean, and variance for each gene\n",
    "    \"\"\"\n",
    "    gene_statistics = {}  # Dictionary to store statistics\n",
    "    \n",
    "    # Function to calculate statistics for a single gene\n",
    "    def calc_stats(gene):\n",
    "        gene_values = data.loc[gene].values  # Get expression values for the gene\n",
    "        gene_sum = gene_values.sum()         # Total expression across all cells\n",
    "        mean_expression = gene_values.mean() # Mean expression value\n",
    "        variance = gene_values.var()         # Variance of expression\n",
    "        return gene, [gene_sum, mean_expression, variance]\n",
    "\n",
    "    # Use tqdm to show progress bar while calculating gene statistics\n",
    "    with ThreadPoolExecutor() as executor:\n",
    "        results = tqdm(executor.map(calc_stats, data.index), total=len(data.index), desc=\"Calculating gene statistics\")\n",
    "        \n",
    "        # Update the dictionary with calculated statistics\n",
    "        for gene, stats in results:\n",
    "            gene_statistics[gene] = stats\n",
    "\n",
    "    return gene_statistics"
   ]
  },
  {
   "cell_type": "code",
   "execution_count": 6,
   "id": "243ba8a2",
   "metadata": {
    "lines_to_next_cell": 1
   },
   "outputs": [],
   "source": [
    "# Function to save gene statistics to a CSV file\n",
    "def save_dict_to_csv(gene_statistics, output_file):\n",
    "    \"\"\"\n",
    "    Saves the gene statistics dictionary to a CSV file.\n",
    "    \n",
    "    Parameters:\n",
    "    - gene_statistics: dict, the dictionary containing gene statistics\n",
    "    - output_file: str, the name of the output CSV file\n",
    "    \n",
    "    Returns:\n",
    "    - None\n",
    "    \"\"\"\n",
    "    with open(output_file, 'w', newline='') as f:\n",
    "        writer = csv.writer(f)\n",
    "        # Write header row\n",
    "        writer.writerow([\"Gene\", \"Sum\", \"Mean\", \"Variance\"])\n",
    "        # Write gene statistics\n",
    "        for gene, stats in gene_statistics.items():\n",
    "            writer.writerow([gene] + stats)\n",
    "    \n",
    "    print(f\"Gene statistics saved to '{output_file}'.\")"
   ]
  },
  {
   "cell_type": "code",
   "execution_count": 7,
   "id": "a1ac8da2",
   "metadata": {},
   "outputs": [],
   "source": [
    "# Recursive function to find 'dense-matrix.csv' in nested subdirectories\n",
    "def find_dense_matrix_file(root_dir):\n",
    "    \"\"\"\n",
    "    Recursively searches for the 'dense-matrix.csv' file in the given directory and its subdirectories.\n",
    "    \n",
    "    Parameters:\n",
    "    - root_dir: str, the root directory to start the search\n",
    "    \n",
    "    Returns:\n",
    "    - str or None: the full path to 'dense-matrix.csv' if found, otherwise None\n",
    "    \"\"\"\n",
    "    for root, dirs, files in os.walk(root_dir):\n",
    "        for file in files:\n",
    "            if file == \"dense-matrix.csv\":\n",
    "                return os.path.join(root, file)\n",
    "    return None  # Return None if the file is not found"
   ]
  },
  {
   "cell_type": "code",
   "execution_count": 8,
   "id": "fc9eb661",
   "metadata": {},
   "outputs": [],
   "source": [
    "def process_gene_expression_data(file_path, threshold=0.01, chunksize=1000):\n",
    "    \"\"\"\n",
    "    Processes the gene expression data by loading, cleaning, normalizing, filtering,\n",
    "    and computing statistics for gene expression data.\n",
    "    \n",
    "    Parameters:\n",
    "    - file_path: str, the path to the gene expression data file\n",
    "    - threshold: float, the minimum percentage of cells where a gene must be expressed\n",
    "    - chunksize: int, the number of rows to read per chunk when loading data\n",
    "    \n",
    "    Returns:\n",
    "    - gene_statistics: dict, the dictionary of computed gene statistics\n",
    "    \"\"\"\n",
    "    # Load and clean the data in chunks\n",
    "    data = load_and_clean_data(file_path, chunksize=chunksize)\n",
    "    \n",
    "    # Normalize the gene expression data\n",
    "    print(\"Normalizing gene expression data...\")\n",
    "    normalized_data = normalize_gene_expression(data)\n",
    "    \n",
    "    # Filter out low-expression genes based on the threshold\n",
    "    # print(\"Filtering low-expression genes...\")\n",
    "    # filtered_data = filter_low_expression_genes(normalized_data, threshold)\n",
    "    \n",
    "    # Compute gene statistics for the filtered data\n",
    "    gene_statistics = compute_gene_statistics(normalized_data)\n",
    "    \n",
    "    return gene_statistics"
   ]
  },
  {
   "cell_type": "code",
   "execution_count": 9,
   "id": "2f78468e",
   "metadata": {},
   "outputs": [],
   "source": [
    "def process_all_files(input_dir, output_dir, threshold=0.01, chunksize=1000):\n",
    "    \"\"\"\n",
    "    Loops through the input directory to find 'dense-matrix.csv' in each sample subdirectory,\n",
    "    processes it, and saves the results in the output directory. Creates a .txt file for each missing\n",
    "    dense-matrix.csv file. Stops checking further samples after encountering a missing sample directory.\n",
    "    \n",
    "    Parameters:\n",
    "    - input_dir: str, the root directory containing cases and sample subdirectories\n",
    "    - output_dir: str, the directory where the output CSV or text files will be saved\n",
    "    - threshold: float, the minimum percentage of cells where a gene must be expressed\n",
    "    - chunksize: int, the number of rows to read per chunk when loading data\n",
    "    \n",
    "    Returns:\n",
    "    - None\n",
    "    \"\"\"\n",
    "    # Ensure output directory exists, create it if not\n",
    "    if not os.path.exists(output_dir):\n",
    "        os.makedirs(output_dir)\n",
    "\n",
    "    # Sort case directories to ensure consistent processing order\n",
    "    for case_dir in sorted(os.listdir(input_dir)):\n",
    "        case_path = os.path.join(input_dir, case_dir)\n",
    "        # Ensure it's a directory and ignore hidden/system files like .DS_Store\n",
    "        if not os.path.isdir(case_path) or case_dir.startswith('.'):\n",
    "            continue  # Skip non-directory or hidden/system files\n",
    "\n",
    "        # Loop through sample directories within each case\n",
    "        for sample_dir in sorted(os.listdir(case_path)):\n",
    "            sample_path = os.path.join(case_path, sample_dir, 'single_cell')\n",
    "\n",
    "            # Ignore hidden/system files in the sample directories as well\n",
    "            if not os.path.isdir(os.path.join(case_path, sample_dir)) or sample_dir.startswith('.'):\n",
    "                continue  # Skip non-directory or hidden/system files\n",
    "\n",
    "            # Search for 'dense-matrix.csv' in the sample's subdirectories\n",
    "            dense_matrix_path = find_dense_matrix_file(sample_path)\n",
    "\n",
    "            # If dense-matrix.csv is found, process the file\n",
    "            if dense_matrix_path:\n",
    "                print(f\"Processing {dense_matrix_path} for case {case_dir}, sample {sample_dir}...\")\n",
    "                try:\n",
    "                    # Process the dense-matrix.csv file and compute statistics\n",
    "                    gene_statistics = process_gene_expression_data(dense_matrix_path, threshold, chunksize)\n",
    "                    \n",
    "                    # Save the output as a CSV in the output directory\n",
    "                    output_file = os.path.join(output_dir, f\"{case_dir}_{sample_dir}.csv\")\n",
    "                    save_dict_to_csv(gene_statistics, output_file)\n",
    "                except Exception as e:\n",
    "                    print(f\"Error processing file {dense_matrix_path}: {e}\")\n",
    "            \n",
    "            # If dense-matrix.csv is not found, create a .txt file indicating the file is missing\n",
    "            else:\n",
    "                print(f\"No dense-matrix.csv found for {case_dir}, sample {sample_dir}.\")\n",
    "                # Create a text file indicating no file was found\n",
    "                output_file = os.path.join(output_dir, f\"{case_dir}_{sample_dir}.txt\")\n",
    "                with open(output_file, 'w') as f:\n",
    "                    f.write(f\"No dense-matrix.csv found in {sample_path}\")\n",
    "                print(f\"Created {output_file}.\")"
   ]
  },
  {
   "cell_type": "code",
   "execution_count": 10,
   "id": "bb38c096",
   "metadata": {},
   "outputs": [
    {
     "name": "stdout",
     "output_type": "stream",
     "text": [
      "Processing GDC-data/C3L-00359/1/single_cell/acfe95e5-b1ad-46ca-b709-46644c9a0c6d/qc_filtered_bc_feature_matrix/dense-matrix.csv for case C3L-00359, sample 1...\n"
     ]
    },
    {
     "name": "stderr",
     "output_type": "stream",
     "text": [
      "Reading and cleaning data: 61it [02:33,  2.52s/it]                        \n"
     ]
    },
    {
     "name": "stdout",
     "output_type": "stream",
     "text": [
      "Normalizing gene expression data...\n"
     ]
    },
    {
     "name": "stderr",
     "output_type": "stream",
     "text": [
      "Normalizing gene expression: 100%|██████████| 14598/14598 [00:18<00:00, 773.85it/s]\n",
      "Calculating gene statistics: 100%|██████████| 37387/37387 [19:36<00:00, 31.78it/s] \n"
     ]
    },
    {
     "name": "stdout",
     "output_type": "stream",
     "text": [
      "Gene statistics saved to 'gene_statistics/C3L-00359_1.csv'.\n",
      "Processing GDC-data/C3L-00606/1/single_cell/03845ba9-15a3-4216-b484-0489eb0fef90/qc_filtered_bc_feature_matrix/dense-matrix.csv for case C3L-00606, sample 1...\n"
     ]
    },
    {
     "name": "stderr",
     "output_type": "stream",
     "text": [
      "Reading and cleaning data: 61it [01:34,  1.55s/it]                        \n"
     ]
    },
    {
     "name": "stdout",
     "output_type": "stream",
     "text": [
      "Normalizing gene expression data...\n"
     ]
    },
    {
     "name": "stderr",
     "output_type": "stream",
     "text": [
      "Normalizing gene expression: 100%|██████████| 8961/8961 [00:07<00:00, 1237.19it/s]\n",
      "Calculating gene statistics: 100%|██████████| 34237/34237 [10:38<00:00, 53.64it/s] \n"
     ]
    },
    {
     "name": "stdout",
     "output_type": "stream",
     "text": [
      "Gene statistics saved to 'gene_statistics/C3L-00606_1.csv'.\n",
      "Processing GDC-data/C3L-00606/2/single_cell/1259da7b-864a-494d-b712-6c566dae06cd/qc_filtered_bc_feature_matrix/dense-matrix.csv for case C3L-00606, sample 2...\n"
     ]
    },
    {
     "name": "stderr",
     "output_type": "stream",
     "text": [
      "Reading and cleaning data: 61it [04:50,  4.76s/it]                        \n"
     ]
    },
    {
     "name": "stdout",
     "output_type": "stream",
     "text": [
      "Normalizing gene expression data...\n"
     ]
    },
    {
     "name": "stderr",
     "output_type": "stream",
     "text": [
      "Normalizing gene expression: 100%|██████████| 16446/16446 [00:21<00:00, 771.94it/s]\n",
      "Calculating gene statistics: 100%|██████████| 35468/35468 [21:23<00:00, 27.64it/s]  \n"
     ]
    },
    {
     "name": "stdout",
     "output_type": "stream",
     "text": [
      "Gene statistics saved to 'gene_statistics/C3L-00606_2.csv'.\n",
      "Processing GDC-data/C3L-00606/3/single_cell/b37c3cf9-8215-4636-906c-fecced524729/qc_filtered_bc_feature_matrix/dense-matrix.csv for case C3L-00606, sample 3...\n"
     ]
    },
    {
     "name": "stderr",
     "output_type": "stream",
     "text": [
      "Reading and cleaning data: 61it [01:44,  1.72s/it]                        \n"
     ]
    },
    {
     "name": "stdout",
     "output_type": "stream",
     "text": [
      "Normalizing gene expression data...\n"
     ]
    },
    {
     "name": "stderr",
     "output_type": "stream",
     "text": [
      "Normalizing gene expression: 100%|██████████| 10270/10270 [00:08<00:00, 1227.21it/s]\n",
      "Calculating gene statistics: 100%|██████████| 34007/34007 [12:50<00:00, 44.16it/s]  \n"
     ]
    },
    {
     "name": "stdout",
     "output_type": "stream",
     "text": [
      "Gene statistics saved to 'gene_statistics/C3L-00606_3.csv'.\n",
      "Processing GDC-data/C3L-01287/1/single_cell/1587552f-810b-4ae7-9efc-d0ec3da9fb2b/qc_filtered_bc_feature_matrix/dense-matrix.csv for case C3L-01287, sample 1...\n"
     ]
    },
    {
     "name": "stderr",
     "output_type": "stream",
     "text": [
      "Reading and cleaning data: 61it [00:49,  1.22it/s]                        \n"
     ]
    },
    {
     "name": "stdout",
     "output_type": "stream",
     "text": [
      "Normalizing gene expression data...\n"
     ]
    },
    {
     "name": "stderr",
     "output_type": "stream",
     "text": [
      "Normalizing gene expression: 100%|██████████| 7726/7726 [00:06<00:00, 1265.81it/s]\n",
      "Calculating gene statistics: 100%|██████████| 36564/36564 [10:43<00:00, 56.80it/s]  \n"
     ]
    },
    {
     "name": "stdout",
     "output_type": "stream",
     "text": [
      "Gene statistics saved to 'gene_statistics/C3L-01287_1.csv'.\n",
      "Processing GDC-data/C3L-01287/2/single_cell/cdea80e2-c55c-45c8-8656-f77374e35b6e/qc_filtered_bc_feature_matrix/dense-matrix.csv for case C3L-01287, sample 2...\n"
     ]
    },
    {
     "name": "stderr",
     "output_type": "stream",
     "text": [
      "Reading and cleaning data: 61it [01:34,  1.54s/it]                        \n"
     ]
    },
    {
     "name": "stdout",
     "output_type": "stream",
     "text": [
      "Normalizing gene expression data...\n"
     ]
    },
    {
     "name": "stderr",
     "output_type": "stream",
     "text": [
      "Normalizing gene expression: 100%|██████████| 9210/9210 [00:07<00:00, 1276.70it/s]\n",
      "Calculating gene statistics: 100%|██████████| 34914/34914 [12:10<00:00, 47.78it/s] \n"
     ]
    },
    {
     "name": "stdout",
     "output_type": "stream",
     "text": [
      "Gene statistics saved to 'gene_statistics/C3L-01287_2.csv'.\n",
      "Processing GDC-data/C3L-01953/1/single_cell/0a8da4f4-7030-4c81-8f91-48d1b31d7551/qc_filtered_bc_feature_matrix/dense-matrix.csv for case C3L-01953, sample 1...\n"
     ]
    },
    {
     "name": "stderr",
     "output_type": "stream",
     "text": [
      "Reading and cleaning data: 61it [01:47,  1.77s/it]                        \n"
     ]
    },
    {
     "name": "stdout",
     "output_type": "stream",
     "text": [
      "Normalizing gene expression data...\n"
     ]
    },
    {
     "name": "stderr",
     "output_type": "stream",
     "text": [
      "Normalizing gene expression: 100%|██████████| 10783/10783 [00:08<00:00, 1200.80it/s]\n",
      "Calculating gene statistics: 100%|██████████| 34687/34687 [14:46<00:00, 39.12it/s] \n"
     ]
    },
    {
     "name": "stdout",
     "output_type": "stream",
     "text": [
      "Gene statistics saved to 'gene_statistics/C3L-01953_1.csv'.\n",
      "Processing GDC-data/C3L-02705/1/single_cell/f1285e81-3d62-4e4d-bf54-005b25c95351/qc_filtered_bc_feature_matrix/dense-matrix.csv for case C3L-02705, sample 1...\n"
     ]
    },
    {
     "name": "stderr",
     "output_type": "stream",
     "text": [
      "Reading and cleaning data: 61it [02:01,  1.98s/it]                        \n"
     ]
    },
    {
     "name": "stdout",
     "output_type": "stream",
     "text": [
      "Normalizing gene expression data...\n"
     ]
    },
    {
     "name": "stderr",
     "output_type": "stream",
     "text": [
      "Normalizing gene expression: 100%|██████████| 11938/11938 [00:12<00:00, 923.46it/s]\n",
      "Calculating gene statistics: 100%|██████████| 39523/39523 [19:46<00:00, 33.30it/s]  \n"
     ]
    },
    {
     "name": "stdout",
     "output_type": "stream",
     "text": [
      "Gene statistics saved to 'gene_statistics/C3L-02705_1.csv'.\n",
      "Processing GDC-data/C3L-02858/1/single_cell/13224031-ccab-401b-bdb9-1759b0e2a469/qc_filtered_bc_feature_matrix/dense-matrix.csv for case C3L-02858, sample 1...\n"
     ]
    },
    {
     "name": "stderr",
     "output_type": "stream",
     "text": [
      "Reading and cleaning data: 61it [00:33,  1.85it/s]                        \n"
     ]
    },
    {
     "name": "stdout",
     "output_type": "stream",
     "text": [
      "Normalizing gene expression data...\n"
     ]
    },
    {
     "name": "stderr",
     "output_type": "stream",
     "text": [
      "Normalizing gene expression: 100%|██████████| 5210/5210 [00:03<00:00, 1405.25it/s]\n",
      "Calculating gene statistics: 100%|██████████| 33071/33071 [06:46<00:00, 81.44it/s] \n"
     ]
    },
    {
     "name": "stdout",
     "output_type": "stream",
     "text": [
      "Gene statistics saved to 'gene_statistics/C3L-02858_1.csv'.\n",
      "Processing GDC-data/C3L-03405/1/single_cell/4aada0be-e49e-4816-8f8c-c83ab265a7f2/qc_filtered_bc_feature_matrix/dense-matrix.csv for case C3L-03405, sample 1...\n"
     ]
    },
    {
     "name": "stderr",
     "output_type": "stream",
     "text": [
      "Reading and cleaning data: 61it [00:35,  1.70it/s]                        \n"
     ]
    },
    {
     "name": "stdout",
     "output_type": "stream",
     "text": [
      "Normalizing gene expression data...\n"
     ]
    },
    {
     "name": "stderr",
     "output_type": "stream",
     "text": [
      "Normalizing gene expression: 100%|██████████| 5631/5631 [00:03<00:00, 1451.64it/s]\n",
      "Calculating gene statistics: 100%|██████████| 35278/35278 [07:47<00:00, 75.52it/s] \n"
     ]
    },
    {
     "name": "stdout",
     "output_type": "stream",
     "text": [
      "Gene statistics saved to 'gene_statistics/C3L-03405_1.csv'.\n",
      "Processing GDC-data/C3L-03968/1/single_cell/e0983229-ac11-4903-901e-950c4b15b14a/qc_filtered_bc_feature_matrix/dense-matrix.csv for case C3L-03968, sample 1...\n"
     ]
    },
    {
     "name": "stderr",
     "output_type": "stream",
     "text": [
      "Reading and cleaning data: 61it [01:33,  1.53s/it]                        \n"
     ]
    },
    {
     "name": "stdout",
     "output_type": "stream",
     "text": [
      "Normalizing gene expression data...\n"
     ]
    },
    {
     "name": "stderr",
     "output_type": "stream",
     "text": [
      "Normalizing gene expression: 100%|██████████| 9172/9172 [00:07<00:00, 1283.56it/s]\n",
      "Calculating gene statistics: 100%|██████████| 34818/34818 [12:12<00:00, 47.51it/s]  \n"
     ]
    },
    {
     "name": "stdout",
     "output_type": "stream",
     "text": [
      "Gene statistics saved to 'gene_statistics/C3L-03968_1.csv'.\n",
      "Processing GDC-data/C3N-00148/1/single_cell/dbe28c52-cdbf-477e-a728-9a61fd4a8139/qc_filtered_bc_feature_matrix/dense-matrix.csv for case C3N-00148, sample 1...\n"
     ]
    },
    {
     "name": "stderr",
     "output_type": "stream",
     "text": [
      "Reading and cleaning data: 61it [00:48,  1.26it/s]                        \n"
     ]
    },
    {
     "name": "stdout",
     "output_type": "stream",
     "text": [
      "Normalizing gene expression data...\n"
     ]
    },
    {
     "name": "stderr",
     "output_type": "stream",
     "text": [
      "Normalizing gene expression: 100%|██████████| 7598/7598 [00:05<00:00, 1305.99it/s]\n",
      "Calculating gene statistics: 100%|██████████| 36865/36865 [10:45<00:00, 57.07it/s] \n"
     ]
    },
    {
     "name": "stdout",
     "output_type": "stream",
     "text": [
      "Gene statistics saved to 'gene_statistics/C3N-00148_1.csv'.\n",
      "Processing GDC-data/C3N-00148/2/single_cell/30b9bf4c-6db5-4663-a700-e6fe3082dcf9/qc_filtered_bc_feature_matrix/dense-matrix.csv for case C3N-00148, sample 2...\n"
     ]
    },
    {
     "name": "stderr",
     "output_type": "stream",
     "text": [
      "Reading and cleaning data: 61it [00:45,  1.33it/s]                        \n"
     ]
    },
    {
     "name": "stdout",
     "output_type": "stream",
     "text": [
      "Normalizing gene expression data...\n"
     ]
    },
    {
     "name": "stderr",
     "output_type": "stream",
     "text": [
      "Normalizing gene expression: 100%|██████████| 7171/7171 [00:05<00:00, 1253.93it/s]\n",
      "Calculating gene statistics: 100%|██████████| 36520/36520 [10:01<00:00, 60.72it/s] \n"
     ]
    },
    {
     "name": "stdout",
     "output_type": "stream",
     "text": [
      "Gene statistics saved to 'gene_statistics/C3N-00148_2.csv'.\n",
      "Processing GDC-data/C3N-00148/3/single_cell/e2213c27-8571-498f-98dd-c1a4319e2146/qc_filtered_bc_feature_matrix/dense-matrix.csv for case C3N-00148, sample 3...\n"
     ]
    },
    {
     "name": "stderr",
     "output_type": "stream",
     "text": [
      "Reading and cleaning data: 61it [02:03,  2.03s/it]                        \n"
     ]
    },
    {
     "name": "stdout",
     "output_type": "stream",
     "text": [
      "Normalizing gene expression data...\n"
     ]
    },
    {
     "name": "stderr",
     "output_type": "stream",
     "text": [
      "Normalizing gene expression: 100%|██████████| 11994/11994 [00:12<00:00, 950.48it/s]\n",
      "Calculating gene statistics: 100%|██████████| 37870/37870 [17:55<00:00, 35.20it/s]  \n"
     ]
    },
    {
     "name": "stdout",
     "output_type": "stream",
     "text": [
      "Gene statistics saved to 'gene_statistics/C3N-00148_3.csv'.\n",
      "Processing GDC-data/C3N-00148/4/single_cell/1f898240-4707-4d5f-a992-faa54104cef3/qc_filtered_bc_feature_matrix/dense-matrix.csv for case C3N-00148, sample 4...\n"
     ]
    },
    {
     "name": "stderr",
     "output_type": "stream",
     "text": [
      "Reading and cleaning data: 61it [01:28,  1.45s/it]                        \n"
     ]
    },
    {
     "name": "stdout",
     "output_type": "stream",
     "text": [
      "Normalizing gene expression data...\n"
     ]
    },
    {
     "name": "stderr",
     "output_type": "stream",
     "text": [
      "Normalizing gene expression: 100%|██████████| 8796/8796 [00:06<00:00, 1323.80it/s]\n",
      "Calculating gene statistics: 100%|██████████| 36901/36901 [12:33<00:00, 48.97it/s] \n"
     ]
    },
    {
     "name": "stdout",
     "output_type": "stream",
     "text": [
      "Gene statistics saved to 'gene_statistics/C3N-00148_4.csv'.\n",
      "Processing GDC-data/C3N-00149/1/single_cell/1896aafc-d107-4a34-9b87-8d893dce0ca0/qc_filtered_bc_feature_matrix/dense-matrix.csv for case C3N-00149, sample 1...\n"
     ]
    },
    {
     "name": "stderr",
     "output_type": "stream",
     "text": [
      "Reading and cleaning data: 61it [01:43,  1.70s/it]                        \n"
     ]
    },
    {
     "name": "stdout",
     "output_type": "stream",
     "text": [
      "Normalizing gene expression data...\n"
     ]
    },
    {
     "name": "stderr",
     "output_type": "stream",
     "text": [
      "Normalizing gene expression: 100%|██████████| 10305/10305 [00:08<00:00, 1181.69it/s]\n",
      "Calculating gene statistics: 100%|██████████| 36694/36694 [14:07<00:00, 43.28it/s] \n"
     ]
    },
    {
     "name": "stdout",
     "output_type": "stream",
     "text": [
      "Gene statistics saved to 'gene_statistics/C3N-00149_1.csv'.\n",
      "Processing GDC-data/C3N-00149/2/single_cell/f9f01268-2c82-40c1-91c7-eab1adee0c99/qc_filtered_bc_feature_matrix/dense-matrix.csv for case C3N-00149, sample 2...\n"
     ]
    },
    {
     "name": "stderr",
     "output_type": "stream",
     "text": [
      "Reading and cleaning data: 61it [01:34,  1.55s/it]                        \n"
     ]
    },
    {
     "name": "stdout",
     "output_type": "stream",
     "text": [
      "Normalizing gene expression data...\n"
     ]
    },
    {
     "name": "stderr",
     "output_type": "stream",
     "text": [
      "Normalizing gene expression: 100%|██████████| 9412/9412 [00:07<00:00, 1198.49it/s]\n",
      "Calculating gene statistics: 100%|██████████| 36317/36317 [12:58<00:00, 46.66it/s] \n"
     ]
    },
    {
     "name": "stdout",
     "output_type": "stream",
     "text": [
      "Gene statistics saved to 'gene_statistics/C3N-00149_2.csv'.\n",
      "Processing GDC-data/C3N-00149/3/single_cell/7339223d-c470-498c-a0ca-52b05cc5a405/qc_filtered_bc_feature_matrix/dense-matrix.csv for case C3N-00149, sample 3...\n"
     ]
    },
    {
     "name": "stderr",
     "output_type": "stream",
     "text": [
      "Reading and cleaning data: 61it [00:27,  2.20it/s]                        \n"
     ]
    },
    {
     "name": "stdout",
     "output_type": "stream",
     "text": [
      "Normalizing gene expression data...\n"
     ]
    },
    {
     "name": "stderr",
     "output_type": "stream",
     "text": [
      "Normalizing gene expression: 100%|██████████| 4411/4411 [00:02<00:00, 1634.73it/s]\n",
      "Calculating gene statistics: 100%|██████████| 34299/34299 [05:48<00:00, 98.44it/s] \n"
     ]
    },
    {
     "name": "stdout",
     "output_type": "stream",
     "text": [
      "Gene statistics saved to 'gene_statistics/C3N-00149_3.csv'.\n",
      "Processing GDC-data/C3N-00439/1/single_cell/cc317a3f-9aa8-4e82-b394-25a13320956b/qc_filtered_bc_feature_matrix/dense-matrix.csv for case C3N-00439, sample 1...\n"
     ]
    },
    {
     "name": "stderr",
     "output_type": "stream",
     "text": [
      "Reading and cleaning data: 61it [00:46,  1.31it/s]                        \n"
     ]
    },
    {
     "name": "stdout",
     "output_type": "stream",
     "text": [
      "Normalizing gene expression data...\n"
     ]
    },
    {
     "name": "stderr",
     "output_type": "stream",
     "text": [
      "Normalizing gene expression: 100%|██████████| 7471/7471 [00:05<00:00, 1321.29it/s]\n",
      "Calculating gene statistics: 100%|██████████| 31830/31830 [08:56<00:00, 59.34it/s]  \n"
     ]
    },
    {
     "name": "stdout",
     "output_type": "stream",
     "text": [
      "Gene statistics saved to 'gene_statistics/C3N-00439_1.csv'.\n",
      "Processing GDC-data/C3N-00662/1/single_cell/15baaf0d-6dce-4fe0-add9-a703eb4cdade/qc_filtered_bc_feature_matrix/dense-matrix.csv for case C3N-00662, sample 1...\n"
     ]
    },
    {
     "name": "stderr",
     "output_type": "stream",
     "text": [
      "Reading and cleaning data: 61it [00:40,  1.51it/s]                        \n"
     ]
    },
    {
     "name": "stdout",
     "output_type": "stream",
     "text": [
      "Normalizing gene expression data...\n"
     ]
    },
    {
     "name": "stderr",
     "output_type": "stream",
     "text": [
      "Normalizing gene expression: 100%|██████████| 6315/6315 [00:04<00:00, 1305.59it/s]\n",
      "Calculating gene statistics: 100%|██████████| 38103/38103 [09:37<00:00, 66.00it/s] \n"
     ]
    },
    {
     "name": "stdout",
     "output_type": "stream",
     "text": [
      "Gene statistics saved to 'gene_statistics/C3N-00662_1.csv'.\n",
      "Processing GDC-data/C3N-01175/1/single_cell/c8a2aad7-a5c0-473f-a3d6-3d2b1ccb9102/qc_filtered_bc_feature_matrix/dense-matrix.csv for case C3N-01175, sample 1...\n"
     ]
    },
    {
     "name": "stderr",
     "output_type": "stream",
     "text": [
      "Reading and cleaning data: 61it [01:54,  1.88s/it]                        \n"
     ]
    },
    {
     "name": "stdout",
     "output_type": "stream",
     "text": [
      "Normalizing gene expression data...\n"
     ]
    },
    {
     "name": "stderr",
     "output_type": "stream",
     "text": [
      "Normalizing gene expression: 100%|██████████| 11463/11463 [00:10<00:00, 1105.90it/s]\n",
      "Calculating gene statistics: 100%|██████████| 35341/35341 [15:13<00:00, 38.68it/s] \n"
     ]
    },
    {
     "name": "stdout",
     "output_type": "stream",
     "text": [
      "Gene statistics saved to 'gene_statistics/C3N-01175_1.csv'.\n",
      "No dense-matrix.csv found for C3N-01180, sample 1.\n",
      "Created gene_statistics/C3N-01180_1.txt.\n",
      "Processing GDC-data/C3N-01270/1/single_cell/b23449fb-b4e2-4816-9f9e-721eed95a124/qc_filtered_bc_feature_matrix/dense-matrix.csv for case C3N-01270, sample 1...\n"
     ]
    },
    {
     "name": "stderr",
     "output_type": "stream",
     "text": [
      "Reading and cleaning data: 61it [00:10,  5.92it/s]                        \n"
     ]
    },
    {
     "name": "stdout",
     "output_type": "stream",
     "text": [
      "Normalizing gene expression data...\n"
     ]
    },
    {
     "name": "stderr",
     "output_type": "stream",
     "text": [
      "Normalizing gene expression: 100%|██████████| 2098/2098 [00:01<00:00, 1903.25it/s]\n",
      "Calculating gene statistics: 100%|██████████| 27985/27985 [00:20<00:00, 1367.14it/s] \n"
     ]
    },
    {
     "name": "stdout",
     "output_type": "stream",
     "text": [
      "Gene statistics saved to 'gene_statistics/C3N-01270_1.csv'.\n",
      "No dense-matrix.csv found for C3N-01334, sample 1.\n",
      "Created gene_statistics/C3N-01334_1.txt.\n",
      "Processing GDC-data/C3N-01798/1/single_cell/596d80de-595a-46b6-9309-6030a7213648/qc_filtered_bc_feature_matrix/dense-matrix.csv for case C3N-01798, sample 1...\n"
     ]
    },
    {
     "name": "stderr",
     "output_type": "stream",
     "text": [
      "Reading and cleaning data: 61it [02:17,  2.25s/it]                        \n"
     ]
    },
    {
     "name": "stdout",
     "output_type": "stream",
     "text": [
      "Normalizing gene expression data...\n"
     ]
    },
    {
     "name": "stderr",
     "output_type": "stream",
     "text": [
      "Normalizing gene expression: 100%|██████████| 13089/13089 [00:17<00:00, 747.75it/s]\n",
      "Calculating gene statistics: 100%|██████████| 42498/42498 [22:58<00:00, 30.83it/s]  \n"
     ]
    },
    {
     "name": "stdout",
     "output_type": "stream",
     "text": [
      "Gene statistics saved to 'gene_statistics/C3N-01798_1.csv'.\n",
      "No dense-matrix.csv found for C3N-01798, sample single_cell.\n",
      "Created gene_statistics/C3N-01798_single_cell.txt.\n",
      "Processing GDC-data/C3N-01814/1/single_cell/255567c3-0640-4de5-b224-1e70cfca6b7f/qc_filtered_bc_feature_matrix/dense-matrix.csv for case C3N-01814, sample 1...\n"
     ]
    },
    {
     "name": "stderr",
     "output_type": "stream",
     "text": [
      "Reading and cleaning data: 61it [02:08,  2.10s/it]                        \n"
     ]
    },
    {
     "name": "stdout",
     "output_type": "stream",
     "text": [
      "Normalizing gene expression data...\n"
     ]
    },
    {
     "name": "stderr",
     "output_type": "stream",
     "text": [
      "Normalizing gene expression: 100%|██████████| 12431/12431 [00:17<00:00, 697.48it/s]\n",
      "Calculating gene statistics: 100%|██████████| 42400/42400 [22:07<00:00, 31.93it/s]\n"
     ]
    },
    {
     "name": "stdout",
     "output_type": "stream",
     "text": [
      "Gene statistics saved to 'gene_statistics/C3N-01814_1.csv'.\n",
      "Processing GDC-data/C3N-01815/1/single_cell/35ebba03-d063-4b0a-ad43-ada21fedc3da/qc_filtered_bc_feature_matrix/dense-matrix.csv for case C3N-01815, sample 1...\n"
     ]
    },
    {
     "name": "stderr",
     "output_type": "stream",
     "text": [
      "Reading and cleaning data: 61it [00:51,  1.17it/s]                        \n"
     ]
    },
    {
     "name": "stdout",
     "output_type": "stream",
     "text": [
      "Normalizing gene expression data...\n"
     ]
    },
    {
     "name": "stderr",
     "output_type": "stream",
     "text": [
      "Normalizing gene expression: 100%|██████████| 7762/7762 [00:06<00:00, 1249.58it/s]\n",
      "Calculating gene statistics: 100%|██████████| 38474/38474 [12:23<00:00, 51.72it/s] \n"
     ]
    },
    {
     "name": "stdout",
     "output_type": "stream",
     "text": [
      "Gene statistics saved to 'gene_statistics/C3N-01815_1.csv'.\n",
      "Processing GDC-data/C3N-01816/1/single_cell/b6fe5e0d-1fd3-4630-bbb4-6b77180e757a/qc_filtered_bc_feature_matrix/dense-matrix.csv for case C3N-01816, sample 1...\n"
     ]
    },
    {
     "name": "stderr",
     "output_type": "stream",
     "text": [
      "Reading and cleaning data: 61it [04:47,  4.72s/it]                        \n"
     ]
    },
    {
     "name": "stdout",
     "output_type": "stream",
     "text": [
      "Normalizing gene expression data...\n"
     ]
    },
    {
     "name": "stderr",
     "output_type": "stream",
     "text": [
      "Normalizing gene expression: 100%|██████████| 16977/16977 [00:23<00:00, 708.45it/s]\n",
      "Calculating gene statistics: 100%|██████████| 42754/42754 [33:44<00:00, 21.12it/s]  \n"
     ]
    },
    {
     "name": "stdout",
     "output_type": "stream",
     "text": [
      "Gene statistics saved to 'gene_statistics/C3N-01816_1.csv'.\n",
      "Processing GDC-data/C3N-01904/1/single_cell/fc6c80a4-0827-4247-b526-74dae27bbeb2/qc_filtered_bc_feature_matrix/dense-matrix.csv for case C3N-01904, sample 1...\n"
     ]
    },
    {
     "name": "stderr",
     "output_type": "stream",
     "text": [
      "Reading and cleaning data: 61it [02:21,  2.32s/it]                        \n"
     ]
    },
    {
     "name": "stdout",
     "output_type": "stream",
     "text": [
      "Normalizing gene expression data...\n"
     ]
    },
    {
     "name": "stderr",
     "output_type": "stream",
     "text": [
      "Normalizing gene expression: 100%|██████████| 13775/13775 [00:17<00:00, 765.51it/s]\n",
      "Calculating gene statistics: 100%|██████████| 36187/36187 [21:06<00:00, 28.58it/s]  \n"
     ]
    },
    {
     "name": "stdout",
     "output_type": "stream",
     "text": [
      "Gene statistics saved to 'gene_statistics/C3N-01904_1.csv'.\n",
      "Processing GDC-data/C3N-02181/1/single_cell/6ad587be-e070-4017-a7ef-fceb4dfa6eeb/qc_filtered_bc_feature_matrix/dense-matrix.csv for case C3N-02181, sample 1...\n"
     ]
    },
    {
     "name": "stderr",
     "output_type": "stream",
     "text": [
      "Reading and cleaning data: 61it [02:00,  1.98s/it]                        \n"
     ]
    },
    {
     "name": "stdout",
     "output_type": "stream",
     "text": [
      "Normalizing gene expression data...\n"
     ]
    },
    {
     "name": "stderr",
     "output_type": "stream",
     "text": [
      "Normalizing gene expression: 100%|██████████| 11806/11806 [00:16<00:00, 725.99it/s]\n",
      "Calculating gene statistics: 100%|██████████| 41742/41742 [21:04<00:00, 33.01it/s] \n"
     ]
    },
    {
     "name": "stdout",
     "output_type": "stream",
     "text": [
      "Gene statistics saved to 'gene_statistics/C3N-02181_1.csv'.\n",
      "Processing GDC-data/C3N-02188/1/single_cell/6c3e3003-7d10-4cf9-a031-6dca74f90274/qc_filtered_bc_feature_matrix/dense-matrix.csv for case C3N-02188, sample 1...\n"
     ]
    },
    {
     "name": "stderr",
     "output_type": "stream",
     "text": [
      "Reading and cleaning data: 61it [02:34,  2.53s/it]                        \n"
     ]
    },
    {
     "name": "stdout",
     "output_type": "stream",
     "text": [
      "Normalizing gene expression data...\n"
     ]
    },
    {
     "name": "stderr",
     "output_type": "stream",
     "text": [
      "Normalizing gene expression: 100%|██████████| 15121/15121 [00:19<00:00, 781.02it/s]\n",
      "Calculating gene statistics: 100%|██████████| 40357/40357 [27:09<00:00, 24.77it/s] \n"
     ]
    },
    {
     "name": "stdout",
     "output_type": "stream",
     "text": [
      "Gene statistics saved to 'gene_statistics/C3N-02188_1.csv'.\n",
      "Processing GDC-data/C3N-02190/1/single_cell/149fdcf8-350b-44d2-89c1-865e6ac7c88f/qc_filtered_bc_feature_matrix/dense-matrix.csv for case C3N-02190, sample 1...\n"
     ]
    },
    {
     "name": "stderr",
     "output_type": "stream",
     "text": [
      "Reading and cleaning data: 61it [01:22,  1.35s/it]                        \n"
     ]
    },
    {
     "name": "stdout",
     "output_type": "stream",
     "text": [
      "Normalizing gene expression data...\n"
     ]
    },
    {
     "name": "stderr",
     "output_type": "stream",
     "text": [
      "Normalizing gene expression: 100%|██████████| 8313/8313 [00:06<00:00, 1349.78it/s]\n",
      "Calculating gene statistics: 100%|██████████| 33007/33007 [09:54<00:00, 55.48it/s]  \n"
     ]
    },
    {
     "name": "stdout",
     "output_type": "stream",
     "text": [
      "Gene statistics saved to 'gene_statistics/C3N-02190_1.csv'.\n",
      "Processing GDC-data/C3N-02769/1/single_cell/5b104813-de6b-4369-b8ae-30f01302c232/qc_filtered_bc_feature_matrix/dense-matrix.csv for case C3N-02769, sample 1...\n"
     ]
    },
    {
     "name": "stderr",
     "output_type": "stream",
     "text": [
      "Reading and cleaning data: 61it [00:42,  1.43it/s]                        \n"
     ]
    },
    {
     "name": "stdout",
     "output_type": "stream",
     "text": [
      "Normalizing gene expression data...\n"
     ]
    },
    {
     "name": "stderr",
     "output_type": "stream",
     "text": [
      "Normalizing gene expression: 100%|██████████| 6650/6650 [00:05<00:00, 1305.69it/s]\n",
      "Calculating gene statistics: 100%|██████████| 35777/35777 [09:05<00:00, 65.64it/s] \n"
     ]
    },
    {
     "name": "stdout",
     "output_type": "stream",
     "text": [
      "Gene statistics saved to 'gene_statistics/C3N-02769_1.csv'.\n",
      "Processing GDC-data/C3N-02783/1/single_cell/b3d2a5df-bf0d-4f79-8c1c-ef473c07b412/qc_filtered_bc_feature_matrix/dense-matrix.csv for case C3N-02783, sample 1...\n"
     ]
    },
    {
     "name": "stderr",
     "output_type": "stream",
     "text": [
      "Reading and cleaning data: 58it [04:49,  5.00s/it]                        \n"
     ]
    },
    {
     "name": "stdout",
     "output_type": "stream",
     "text": [
      "Normalizing gene expression data...\n"
     ]
    },
    {
     "name": "stderr",
     "output_type": "stream",
     "text": [
      "Normalizing gene expression: 100%|██████████| 17997/17997 [00:23<00:00, 759.69it/s]\n",
      "Calculating gene statistics: 100%|██████████| 40247/40247 [33:46<00:00, 19.86it/s]  \n"
     ]
    },
    {
     "name": "stdout",
     "output_type": "stream",
     "text": [
      "Gene statistics saved to 'gene_statistics/C3N-02783_1.csv'.\n",
      "No dense-matrix.csv found for C3N-02783, sample single_cell.\n",
      "Created gene_statistics/C3N-02783_single_cell.txt.\n",
      "Processing GDC-data/C3N-02784/1/single_cell/84ec08cc-c425-45fc-a3e3-387c418769b6/qc_filtered_bc_feature_matrix/dense-matrix.csv for case C3N-02784, sample 1...\n"
     ]
    },
    {
     "name": "stderr",
     "output_type": "stream",
     "text": [
      "Reading and cleaning data: 61it [00:48,  1.25it/s]                        \n"
     ]
    },
    {
     "name": "stdout",
     "output_type": "stream",
     "text": [
      "Normalizing gene expression data...\n"
     ]
    },
    {
     "name": "stderr",
     "output_type": "stream",
     "text": [
      "Normalizing gene expression: 100%|██████████| 7710/7710 [00:06<00:00, 1216.12it/s]\n",
      "Calculating gene statistics: 100%|██████████| 39291/39291 [12:03<00:00, 54.33it/s] \n"
     ]
    },
    {
     "name": "stdout",
     "output_type": "stream",
     "text": [
      "Gene statistics saved to 'gene_statistics/C3N-02784_1.csv'.\n",
      "Processing GDC-data/C3N-03184/1/single_cell/90569c86-d332-4743-8064-5314188bf06a/qc_filtered_bc_feature_matrix/dense-matrix.csv for case C3N-03184, sample 1...\n"
     ]
    },
    {
     "name": "stderr",
     "output_type": "stream",
     "text": [
      "Reading and cleaning data: 61it [04:32,  4.47s/it]                        \n"
     ]
    },
    {
     "name": "stdout",
     "output_type": "stream",
     "text": [
      "Normalizing gene expression data...\n"
     ]
    },
    {
     "name": "stderr",
     "output_type": "stream",
     "text": [
      "Normalizing gene expression: 100%|██████████| 16445/16445 [00:20<00:00, 796.27it/s]\n",
      "Calculating gene statistics: 100%|██████████| 35789/35789 [23:44<00:00, 25.12it/s]  \n"
     ]
    },
    {
     "name": "stdout",
     "output_type": "stream",
     "text": [
      "Gene statistics saved to 'gene_statistics/C3N-03184_1.csv'.\n",
      "Processing GDC-data/C3N-03186/1/single_cell/261a8ad9-59ba-4ba3-895d-86c4b8c396e2/qc_filtered_bc_feature_matrix/dense-matrix.csv for case C3N-03186, sample 1...\n"
     ]
    },
    {
     "name": "stderr",
     "output_type": "stream",
     "text": [
      "Reading and cleaning data: 61it [00:30,  2.00it/s]                        \n"
     ]
    },
    {
     "name": "stdout",
     "output_type": "stream",
     "text": [
      "Normalizing gene expression data...\n"
     ]
    },
    {
     "name": "stderr",
     "output_type": "stream",
     "text": [
      "Normalizing gene expression: 100%|██████████| 4827/4827 [00:03<00:00, 1505.37it/s]\n",
      "Calculating gene statistics: 100%|██████████| 35834/35834 [06:19<00:00, 94.36it/s] \n"
     ]
    },
    {
     "name": "stdout",
     "output_type": "stream",
     "text": [
      "Gene statistics saved to 'gene_statistics/C3N-03186_1.csv'.\n",
      "Processing GDC-data/C3N-03188/1/single_cell/f7404457-fae1-487d-8c35-345a457d2b30/qc_filtered_bc_feature_matrix/dense-matrix.csv for case C3N-03188, sample 1...\n"
     ]
    },
    {
     "name": "stderr",
     "output_type": "stream",
     "text": [
      "Reading and cleaning data: 61it [02:06,  2.07s/it]                        \n"
     ]
    },
    {
     "name": "stdout",
     "output_type": "stream",
     "text": [
      "Normalizing gene expression data...\n"
     ]
    },
    {
     "name": "stderr",
     "output_type": "stream",
     "text": [
      "Normalizing gene expression: 100%|██████████| 12333/12333 [00:16<00:00, 743.48it/s]\n",
      "Calculating gene statistics: 100%|██████████| 43011/43011 [24:44<00:00, 28.98it/s] \n"
     ]
    },
    {
     "name": "stdout",
     "output_type": "stream",
     "text": [
      "Gene statistics saved to 'gene_statistics/C3N-03188_1.csv'.\n"
     ]
    }
   ],
   "source": [
    "# Process the data and save results\n",
    "try:\n",
    "    # Input and output directories\n",
    "    input_dir = \"GDC-data\"  # Input directory with all the cases\n",
    "    output_dir = \"gene_statistics\"  # Output directory for results\n",
    "\n",
    "    # Process all files\n",
    "    process_all_files(input_dir, output_dir, threshold=0.01, chunksize=1000)\n",
    "\n",
    "except Exception as e:\n",
    "    print(f\"An error occurred during processing: {e}\")"
   ]
  }
 ],
 "metadata": {
  "jupytext": {
   "cell_metadata_filter": "-all",
   "main_language": "python",
   "notebook_metadata_filter": "-all"
  },
  "kernelspec": {
   "display_name": "Python 3",
   "language": "python",
   "name": "python3"
  },
  "language_info": {
   "codemirror_mode": {
    "name": "ipython",
    "version": 3
   },
   "file_extension": ".py",
   "mimetype": "text/x-python",
   "name": "python",
   "nbconvert_exporter": "python",
   "pygments_lexer": "ipython3",
   "version": "3.9.0"
  }
 },
 "nbformat": 4,
 "nbformat_minor": 5
}
